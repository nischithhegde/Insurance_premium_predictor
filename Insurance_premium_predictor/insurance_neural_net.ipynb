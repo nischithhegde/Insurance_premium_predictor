{
  "cells": [
    {
      "cell_type": "code",
      "execution_count": 6,
      "metadata": {
        "id": "e0ziDX8gRxps"
      },
      "outputs": [
        {
          "ename": "ModuleNotFoundError",
          "evalue": "No module named 'tensorflow.keras'",
          "output_type": "error",
          "traceback": [
            "\u001b[1;31m---------------------------------------------------------------------------\u001b[0m",
            "\u001b[1;31mModuleNotFoundError\u001b[0m                       Traceback (most recent call last)",
            "Cell \u001b[1;32mIn[6], line 9\u001b[0m\n\u001b[0;32m      7\u001b[0m \u001b[38;5;28;01mfrom\u001b[39;00m \u001b[38;5;21;01msklearn\u001b[39;00m\u001b[38;5;21;01m.\u001b[39;00m\u001b[38;5;21;01mcompose\u001b[39;00m \u001b[38;5;28;01mimport\u001b[39;00m ColumnTransformer\n\u001b[0;32m      8\u001b[0m \u001b[38;5;28;01mfrom\u001b[39;00m \u001b[38;5;21;01msklearn\u001b[39;00m\u001b[38;5;21;01m.\u001b[39;00m\u001b[38;5;21;01mmetrics\u001b[39;00m \u001b[38;5;28;01mimport\u001b[39;00m r2_score,mean_squared_error\n\u001b[1;32m----> 9\u001b[0m \u001b[38;5;28;01mfrom\u001b[39;00m \u001b[38;5;21;01mtensorflow\u001b[39;00m\u001b[38;5;21;01m.\u001b[39;00m\u001b[38;5;21;01mkeras\u001b[39;00m\u001b[38;5;21;01m.\u001b[39;00m\u001b[38;5;21;01mmodels\u001b[39;00m \u001b[38;5;28;01mimport\u001b[39;00m Sequential\n\u001b[0;32m     10\u001b[0m \u001b[38;5;28;01mfrom\u001b[39;00m \u001b[38;5;21;01mtensorflow\u001b[39;00m\u001b[38;5;21;01m.\u001b[39;00m\u001b[38;5;21;01mkeras\u001b[39;00m\u001b[38;5;21;01m.\u001b[39;00m\u001b[38;5;21;01mlayers\u001b[39;00m \u001b[38;5;28;01mimport\u001b[39;00m Dense,Dropout\n\u001b[0;32m     11\u001b[0m \u001b[38;5;28;01mfrom\u001b[39;00m \u001b[38;5;21;01mtensorflow\u001b[39;00m\u001b[38;5;21;01m.\u001b[39;00m\u001b[38;5;21;01mkeras\u001b[39;00m\u001b[38;5;21;01m.\u001b[39;00m\u001b[38;5;21;01mregularizers\u001b[39;00m \u001b[38;5;28;01mimport\u001b[39;00m l2\n",
            "\u001b[1;31mModuleNotFoundError\u001b[0m: No module named 'tensorflow.keras'"
          ]
        }
      ],
      "source": [
        "import pandas as pd\n",
        "import numpy as np\n",
        "import matplotlib.pyplot as plt\n",
        "import tensorflow as tf\n",
        "from sklearn.preprocessing import OneHotEncoder,StandardScaler\n",
        "from sklearn.model_selection import train_test_split\n",
        "from sklearn.compose import ColumnTransformer\n",
        "from sklearn.metrics import r2_score,mean_squared_error\n",
        "from tensorflow.keras.models import Sequential\n",
        "from tensorflow.keras.layers import Dense,Dropout\n",
        "from tensorflow.keras.regularizers import l2\n",
        "from tensorflow.keras.utils import plot_model\n",
        "import pydot"
      ]
    },
    {
      "cell_type": "code",
      "execution_count": 3,
      "metadata": {
        "colab": {
          "base_uri": "https://localhost:8080/",
          "height": 206
        },
        "id": "jO-FR5EmSx4m",
        "outputId": "8406fdc3-8901-4e7c-b4d5-680a4c7c5ef7"
      },
      "outputs": [
        {
          "data": {
            "text/html": [
              "<div>\n",
              "<style scoped>\n",
              "    .dataframe tbody tr th:only-of-type {\n",
              "        vertical-align: middle;\n",
              "    }\n",
              "\n",
              "    .dataframe tbody tr th {\n",
              "        vertical-align: top;\n",
              "    }\n",
              "\n",
              "    .dataframe thead th {\n",
              "        text-align: right;\n",
              "    }\n",
              "</style>\n",
              "<table border=\"1\" class=\"dataframe\">\n",
              "  <thead>\n",
              "    <tr style=\"text-align: right;\">\n",
              "      <th></th>\n",
              "      <th>age</th>\n",
              "      <th>sex</th>\n",
              "      <th>bmi</th>\n",
              "      <th>children</th>\n",
              "      <th>smoker</th>\n",
              "      <th>region</th>\n",
              "      <th>charges</th>\n",
              "    </tr>\n",
              "  </thead>\n",
              "  <tbody>\n",
              "    <tr>\n",
              "      <th>0</th>\n",
              "      <td>19</td>\n",
              "      <td>female</td>\n",
              "      <td>27.900</td>\n",
              "      <td>0</td>\n",
              "      <td>yes</td>\n",
              "      <td>southwest</td>\n",
              "      <td>16884.92400</td>\n",
              "    </tr>\n",
              "    <tr>\n",
              "      <th>1</th>\n",
              "      <td>18</td>\n",
              "      <td>male</td>\n",
              "      <td>33.770</td>\n",
              "      <td>1</td>\n",
              "      <td>no</td>\n",
              "      <td>southeast</td>\n",
              "      <td>1725.55230</td>\n",
              "    </tr>\n",
              "    <tr>\n",
              "      <th>2</th>\n",
              "      <td>28</td>\n",
              "      <td>male</td>\n",
              "      <td>33.000</td>\n",
              "      <td>3</td>\n",
              "      <td>no</td>\n",
              "      <td>southeast</td>\n",
              "      <td>4449.46200</td>\n",
              "    </tr>\n",
              "    <tr>\n",
              "      <th>3</th>\n",
              "      <td>33</td>\n",
              "      <td>male</td>\n",
              "      <td>22.705</td>\n",
              "      <td>0</td>\n",
              "      <td>no</td>\n",
              "      <td>northwest</td>\n",
              "      <td>21984.47061</td>\n",
              "    </tr>\n",
              "    <tr>\n",
              "      <th>4</th>\n",
              "      <td>32</td>\n",
              "      <td>male</td>\n",
              "      <td>28.880</td>\n",
              "      <td>0</td>\n",
              "      <td>no</td>\n",
              "      <td>northwest</td>\n",
              "      <td>3866.85520</td>\n",
              "    </tr>\n",
              "  </tbody>\n",
              "</table>\n",
              "</div>"
            ],
            "text/plain": [
              "   age     sex     bmi  children smoker     region      charges\n",
              "0   19  female  27.900         0    yes  southwest  16884.92400\n",
              "1   18    male  33.770         1     no  southeast   1725.55230\n",
              "2   28    male  33.000         3     no  southeast   4449.46200\n",
              "3   33    male  22.705         0     no  northwest  21984.47061\n",
              "4   32    male  28.880         0     no  northwest   3866.85520"
            ]
          },
          "execution_count": 3,
          "metadata": {},
          "output_type": "execute_result"
        }
      ],
      "source": [
        "data=pd.read_csv('./insurance.csv')\n",
        "data.head()"
      ]
    },
    {
      "cell_type": "code",
      "execution_count": null,
      "metadata": {
        "id": "mgXmPOnzThjl"
      },
      "outputs": [],
      "source": [
        "x=data.drop('charges',axis=1)\n",
        "y=data['charges']"
      ]
    },
    {
      "cell_type": "code",
      "execution_count": null,
      "metadata": {
        "colab": {
          "base_uri": "https://localhost:8080/"
        },
        "id": "74h-GbuEDFuj",
        "outputId": "52f11c09-6662-499b-e0d9-6cec9ae0694a"
      },
      "outputs": [
        {
          "name": "stdout",
          "output_type": "stream",
          "text": [
            "   age     sex     bmi  children smoker     region\n",
            "0   19  female  27.900         0    yes  southwest\n",
            "1   18    male  33.770         1     no  southeast\n",
            "2   28    male  33.000         3     no  southeast\n",
            "3   33    male  22.705         0     no  northwest\n",
            "4   32    male  28.880         0     no  northwest\n"
          ]
        }
      ],
      "source": [
        "print(x.head())"
      ]
    },
    {
      "cell_type": "code",
      "execution_count": null,
      "metadata": {
        "id": "tqInP97cUqYI"
      },
      "outputs": [],
      "source": [
        "from sklearn.compose import ColumnTransformer\n",
        "from sklearn.preprocessing import StandardScaler, OneHotEncoder\n",
        "\n",
        "# Define your feature columns\n",
        "numerical_features = ['age', 'bmi', 'children']\n",
        "categorical_features = ['sex', 'smoker','region']\n",
        "\n",
        "# Define the ColumnTransformer\n",
        "preprocessor = ColumnTransformer(\n",
        "    transformers=[\n",
        "        ('num', StandardScaler(), numerical_features),\n",
        "        ('cat', OneHotEncoder(), categorical_features)\n",
        "    ]\n",
        ")\n",
        "\n",
        "# Fit and transform the data\n",
        "x_transformed = preprocessor.fit_transform(x)"
      ]
    },
    {
      "cell_type": "code",
      "execution_count": null,
      "metadata": {
        "id": "nWgwAS1gVK7S"
      },
      "outputs": [],
      "source": [
        "x_train,x_test,y_train,y_test=train_test_split(x_transformed,y,test_size=0.2,random_state=42)"
      ]
    },
    {
      "cell_type": "code",
      "execution_count": null,
      "metadata": {
        "colab": {
          "base_uri": "https://localhost:8080/"
        },
        "id": "ASM4ceZQVr1Z",
        "outputId": "385bcde3-2845-4af2-b281-37da3b04a726"
      },
      "outputs": [
        {
          "data": {
            "text/plain": [
              "(1070, 11)"
            ]
          },
          "execution_count": 41,
          "metadata": {},
          "output_type": "execute_result"
        }
      ],
      "source": [
        "x_train.shape"
      ]
    },
    {
      "cell_type": "code",
      "execution_count": null,
      "metadata": {
        "id": "TOAPgmhQVb89"
      },
      "outputs": [],
      "source": [
        "model=Sequential()\n",
        "model.add(Dense(128,input_shape=(x_train.shape[1],),activation='relu'))\n",
        "model.add(Dense(64,activation='relu'))\n",
        "model.add(Dense(32,activation='relu',kernel_regularizer=l2(0.01)))\n",
        "model.add(Dense(16,activation='relu'))\n",
        "model.add(Dense(1,activation='linear'))"
      ]
    },
    {
      "cell_type": "code",
      "execution_count": null,
      "metadata": {
        "id": "Ec6wSia_WDdq"
      },
      "outputs": [],
      "source": [
        "model.compile(optimizer='adam',loss='mse',metrics=['mae'])"
      ]
    },
    {
      "cell_type": "code",
      "execution_count": null,
      "metadata": {
        "colab": {
          "base_uri": "https://localhost:8080/"
        },
        "id": "jxX3lrZ7aRb8",
        "outputId": "45d9c305-1b11-4592-e86e-3b0658df9af4"
      },
      "outputs": [
        {
          "name": "stdout",
          "output_type": "stream",
          "text": [
            "Epoch 1/200\n",
            "31/31 [==============================] - 2s 11ms/step - loss: 325488864.0000 - mae: 13462.5547 - val_loss: 294417184.0000 - val_mae: 12273.7266\n",
            "Epoch 2/200\n",
            "31/31 [==============================] - 0s 3ms/step - loss: 324737312.0000 - mae: 13435.5400 - val_loss: 292406304.0000 - val_mae: 12196.6787\n",
            "Epoch 3/200\n",
            "31/31 [==============================] - 0s 4ms/step - loss: 317873184.0000 - mae: 13190.0127 - val_loss: 277759072.0000 - val_mae: 11625.3027\n",
            "Epoch 4/200\n",
            "31/31 [==============================] - 0s 4ms/step - loss: 283591040.0000 - mae: 11883.6953 - val_loss: 220738624.0000 - val_mae: 9268.7373\n",
            "Epoch 5/200\n",
            "31/31 [==============================] - 0s 4ms/step - loss: 196106480.0000 - mae: 8718.2061 - val_loss: 131918568.0000 - val_mae: 7113.8574\n",
            "Epoch 6/200\n",
            "31/31 [==============================] - 0s 5ms/step - loss: 127517560.0000 - mae: 8623.6572 - val_loss: 110016616.0000 - val_mae: 8477.3105\n",
            "Epoch 7/200\n",
            "31/31 [==============================] - 0s 3ms/step - loss: 110519112.0000 - mae: 8461.3213 - val_loss: 97667232.0000 - val_mae: 7796.9863\n",
            "Epoch 8/200\n",
            "31/31 [==============================] - 0s 4ms/step - loss: 98910120.0000 - mae: 7960.4673 - val_loss: 87723408.0000 - val_mae: 7463.0410\n",
            "Epoch 9/200\n",
            "31/31 [==============================] - 0s 4ms/step - loss: 88226336.0000 - mae: 7526.4834 - val_loss: 77917032.0000 - val_mae: 6958.6230\n",
            "Epoch 10/200\n",
            "31/31 [==============================] - 0s 4ms/step - loss: 77939440.0000 - mae: 6914.0557 - val_loss: 68859080.0000 - val_mae: 6577.2280\n",
            "Epoch 11/200\n",
            "31/31 [==============================] - 0s 3ms/step - loss: 67948264.0000 - mae: 6551.1470 - val_loss: 59492664.0000 - val_mae: 6160.0039\n",
            "Epoch 12/200\n",
            "31/31 [==============================] - 0s 4ms/step - loss: 58425684.0000 - mae: 6030.2573 - val_loss: 51309572.0000 - val_mae: 5581.7183\n",
            "Epoch 13/200\n",
            "31/31 [==============================] - 0s 4ms/step - loss: 50705588.0000 - mae: 5497.6196 - val_loss: 44419260.0000 - val_mae: 5172.8398\n",
            "Epoch 14/200\n",
            "31/31 [==============================] - 0s 5ms/step - loss: 44759668.0000 - mae: 5385.2598 - val_loss: 38710900.0000 - val_mae: 4648.2446\n",
            "Epoch 15/200\n",
            "31/31 [==============================] - 0s 4ms/step - loss: 40695488.0000 - mae: 4674.2324 - val_loss: 35208308.0000 - val_mae: 4309.7368\n",
            "Epoch 16/200\n",
            "31/31 [==============================] - 0s 4ms/step - loss: 38230436.0000 - mae: 4557.3008 - val_loss: 33623936.0000 - val_mae: 4001.8123\n",
            "Epoch 17/200\n",
            "31/31 [==============================] - 0s 6ms/step - loss: 36765208.0000 - mae: 4351.3735 - val_loss: 32310874.0000 - val_mae: 3908.0505\n",
            "Epoch 18/200\n",
            "31/31 [==============================] - 0s 6ms/step - loss: 36053916.0000 - mae: 4175.6802 - val_loss: 31313342.0000 - val_mae: 3812.1023\n",
            "Epoch 19/200\n",
            "31/31 [==============================] - 0s 5ms/step - loss: 35488556.0000 - mae: 4095.0969 - val_loss: 30855366.0000 - val_mae: 3707.5579\n",
            "Epoch 20/200\n",
            "31/31 [==============================] - 0s 7ms/step - loss: 35094240.0000 - mae: 4103.7729 - val_loss: 30689560.0000 - val_mae: 3630.9817\n",
            "Epoch 21/200\n",
            "31/31 [==============================] - 0s 6ms/step - loss: 34530148.0000 - mae: 3979.0405 - val_loss: 30300494.0000 - val_mae: 3574.5615\n",
            "Epoch 22/200\n",
            "31/31 [==============================] - 0s 6ms/step - loss: 34337932.0000 - mae: 3930.8940 - val_loss: 29803902.0000 - val_mae: 3529.1921\n",
            "Epoch 23/200\n",
            "31/31 [==============================] - 0s 6ms/step - loss: 34043436.0000 - mae: 3814.9382 - val_loss: 29443202.0000 - val_mae: 3496.6819\n",
            "Epoch 24/200\n",
            "31/31 [==============================] - 0s 5ms/step - loss: 33292194.0000 - mae: 3809.0627 - val_loss: 29122430.0000 - val_mae: 3484.2825\n",
            "Epoch 25/200\n",
            "31/31 [==============================] - 0s 7ms/step - loss: 33007084.0000 - mae: 3801.1995 - val_loss: 29183112.0000 - val_mae: 3415.4451\n",
            "Epoch 26/200\n",
            "31/31 [==============================] - 0s 7ms/step - loss: 32511048.0000 - mae: 3710.3105 - val_loss: 28483424.0000 - val_mae: 3412.6775\n",
            "Epoch 27/200\n",
            "31/31 [==============================] - 0s 6ms/step - loss: 32170258.0000 - mae: 3717.5918 - val_loss: 28488780.0000 - val_mae: 3373.9453\n",
            "Epoch 28/200\n",
            "31/31 [==============================] - 0s 6ms/step - loss: 31871064.0000 - mae: 3633.0842 - val_loss: 27831340.0000 - val_mae: 3315.0972\n",
            "Epoch 29/200\n",
            "31/31 [==============================] - 0s 6ms/step - loss: 31478978.0000 - mae: 3594.9690 - val_loss: 27548838.0000 - val_mae: 3343.4431\n",
            "Epoch 30/200\n",
            "31/31 [==============================] - 0s 8ms/step - loss: 30936600.0000 - mae: 3584.8015 - val_loss: 27584048.0000 - val_mae: 3269.9976\n",
            "Epoch 31/200\n",
            "31/31 [==============================] - 0s 7ms/step - loss: 30958062.0000 - mae: 3662.8328 - val_loss: 27936302.0000 - val_mae: 3233.2502\n",
            "Epoch 32/200\n",
            "31/31 [==============================] - 0s 6ms/step - loss: 30339282.0000 - mae: 3443.3511 - val_loss: 26611220.0000 - val_mae: 3250.4199\n",
            "Epoch 33/200\n",
            "31/31 [==============================] - 0s 6ms/step - loss: 29830362.0000 - mae: 3459.4783 - val_loss: 26304498.0000 - val_mae: 3182.1633\n",
            "Epoch 34/200\n",
            "31/31 [==============================] - 0s 6ms/step - loss: 29535464.0000 - mae: 3408.8079 - val_loss: 26652002.0000 - val_mae: 3086.3481\n",
            "Epoch 35/200\n",
            "31/31 [==============================] - 0s 5ms/step - loss: 29235602.0000 - mae: 3336.7239 - val_loss: 25607646.0000 - val_mae: 3269.6782\n",
            "Epoch 36/200\n",
            "31/31 [==============================] - 0s 4ms/step - loss: 28842450.0000 - mae: 3424.1541 - val_loss: 25726468.0000 - val_mae: 3114.3127\n",
            "Epoch 37/200\n",
            "31/31 [==============================] - 0s 3ms/step - loss: 28683626.0000 - mae: 3261.2332 - val_loss: 25142818.0000 - val_mae: 3167.8472\n",
            "Epoch 38/200\n",
            "31/31 [==============================] - 0s 4ms/step - loss: 28300014.0000 - mae: 3330.1182 - val_loss: 25045614.0000 - val_mae: 3114.2678\n",
            "Epoch 39/200\n",
            "31/31 [==============================] - 0s 3ms/step - loss: 27867206.0000 - mae: 3270.5378 - val_loss: 25385092.0000 - val_mae: 3017.5273\n",
            "Epoch 40/200\n",
            "31/31 [==============================] - 0s 4ms/step - loss: 27697508.0000 - mae: 3164.6646 - val_loss: 24564724.0000 - val_mae: 3139.5125\n",
            "Epoch 41/200\n",
            "31/31 [==============================] - 0s 4ms/step - loss: 27364772.0000 - mae: 3302.4480 - val_loss: 24649272.0000 - val_mae: 3067.8696\n",
            "Epoch 42/200\n",
            "31/31 [==============================] - 0s 4ms/step - loss: 27084752.0000 - mae: 3214.7585 - val_loss: 24492238.0000 - val_mae: 3051.6780\n",
            "Epoch 43/200\n",
            "31/31 [==============================] - 0s 5ms/step - loss: 26775902.0000 - mae: 3178.9189 - val_loss: 24169024.0000 - val_mae: 3054.3706\n",
            "Epoch 44/200\n",
            "31/31 [==============================] - 0s 4ms/step - loss: 26583606.0000 - mae: 3151.4177 - val_loss: 24136330.0000 - val_mae: 2996.9087\n",
            "Epoch 45/200\n",
            "31/31 [==============================] - 0s 4ms/step - loss: 26315384.0000 - mae: 3112.8418 - val_loss: 24216150.0000 - val_mae: 2956.8611\n",
            "Epoch 46/200\n",
            "31/31 [==============================] - 0s 4ms/step - loss: 26103586.0000 - mae: 3068.2349 - val_loss: 23956332.0000 - val_mae: 2966.0771\n",
            "Epoch 47/200\n",
            "31/31 [==============================] - 0s 3ms/step - loss: 26032992.0000 - mae: 3099.9924 - val_loss: 24037886.0000 - val_mae: 2906.0920\n",
            "Epoch 48/200\n",
            "31/31 [==============================] - 0s 4ms/step - loss: 26377280.0000 - mae: 2965.6335 - val_loss: 23661182.0000 - val_mae: 3151.0969\n",
            "Epoch 49/200\n",
            "31/31 [==============================] - 0s 3ms/step - loss: 25623026.0000 - mae: 3013.8889 - val_loss: 23498410.0000 - val_mae: 3051.9849\n",
            "Epoch 50/200\n",
            "31/31 [==============================] - 0s 4ms/step - loss: 25365428.0000 - mae: 3102.4592 - val_loss: 23574610.0000 - val_mae: 2981.9060\n",
            "Epoch 51/200\n",
            "31/31 [==============================] - 0s 5ms/step - loss: 25238314.0000 - mae: 2988.6558 - val_loss: 23414004.0000 - val_mae: 2966.4529\n",
            "Epoch 52/200\n",
            "31/31 [==============================] - 0s 3ms/step - loss: 25065272.0000 - mae: 3043.1638 - val_loss: 23169034.0000 - val_mae: 3028.1726\n",
            "Epoch 53/200\n",
            "31/31 [==============================] - 0s 4ms/step - loss: 24939072.0000 - mae: 2940.9309 - val_loss: 23105332.0000 - val_mae: 3050.3657\n",
            "Epoch 54/200\n",
            "31/31 [==============================] - 0s 4ms/step - loss: 24981642.0000 - mae: 3163.7114 - val_loss: 23324258.0000 - val_mae: 3042.6514\n",
            "Epoch 55/200\n",
            "31/31 [==============================] - 0s 4ms/step - loss: 24703038.0000 - mae: 3084.1689 - val_loss: 23451012.0000 - val_mae: 2920.2419\n",
            "Epoch 56/200\n",
            "31/31 [==============================] - 0s 4ms/step - loss: 24576780.0000 - mae: 2926.2812 - val_loss: 22996712.0000 - val_mae: 3047.4363\n",
            "Epoch 57/200\n",
            "31/31 [==============================] - 0s 4ms/step - loss: 24464414.0000 - mae: 2891.9204 - val_loss: 22953572.0000 - val_mae: 3011.0222\n",
            "Epoch 58/200\n",
            "31/31 [==============================] - 0s 4ms/step - loss: 24296168.0000 - mae: 3013.4180 - val_loss: 23089666.0000 - val_mae: 2932.4629\n",
            "Epoch 59/200\n",
            "31/31 [==============================] - 0s 4ms/step - loss: 24241856.0000 - mae: 2840.9126 - val_loss: 22850422.0000 - val_mae: 2981.2712\n",
            "Epoch 60/200\n",
            "31/31 [==============================] - 0s 3ms/step - loss: 24073132.0000 - mae: 2879.1448 - val_loss: 22948350.0000 - val_mae: 2943.7290\n",
            "Epoch 61/200\n",
            "31/31 [==============================] - 0s 3ms/step - loss: 24056992.0000 - mae: 2974.8142 - val_loss: 22639462.0000 - val_mae: 3112.4797\n",
            "Epoch 62/200\n",
            "31/31 [==============================] - 0s 3ms/step - loss: 23916004.0000 - mae: 2933.3059 - val_loss: 22759036.0000 - val_mae: 2913.2175\n",
            "Epoch 63/200\n",
            "31/31 [==============================] - 0s 3ms/step - loss: 23969336.0000 - mae: 2976.1392 - val_loss: 22769608.0000 - val_mae: 2871.5942\n",
            "Epoch 64/200\n",
            "31/31 [==============================] - 0s 3ms/step - loss: 23806862.0000 - mae: 2915.8577 - val_loss: 22547042.0000 - val_mae: 2989.7288\n",
            "Epoch 65/200\n",
            "31/31 [==============================] - 0s 4ms/step - loss: 23686780.0000 - mae: 2805.2512 - val_loss: 22430936.0000 - val_mae: 2988.0730\n",
            "Epoch 66/200\n",
            "31/31 [==============================] - 0s 4ms/step - loss: 23542472.0000 - mae: 2949.1074 - val_loss: 22820270.0000 - val_mae: 2837.9153\n",
            "Epoch 67/200\n",
            "31/31 [==============================] - 0s 5ms/step - loss: 23571410.0000 - mae: 2823.3269 - val_loss: 22340954.0000 - val_mae: 3024.9668\n",
            "Epoch 68/200\n",
            "31/31 [==============================] - 0s 4ms/step - loss: 23490804.0000 - mae: 2933.1013 - val_loss: 22616994.0000 - val_mae: 2960.1096\n",
            "Epoch 69/200\n",
            "31/31 [==============================] - 0s 3ms/step - loss: 23520104.0000 - mae: 2859.3003 - val_loss: 22496742.0000 - val_mae: 2968.2004\n",
            "Epoch 70/200\n",
            "31/31 [==============================] - 0s 4ms/step - loss: 23340830.0000 - mae: 2866.0701 - val_loss: 22284204.0000 - val_mae: 3025.4617\n",
            "Epoch 71/200\n",
            "31/31 [==============================] - 0s 4ms/step - loss: 23258708.0000 - mae: 2941.9622 - val_loss: 22362768.0000 - val_mae: 2870.0510\n",
            "Epoch 72/200\n",
            "31/31 [==============================] - 0s 4ms/step - loss: 23145836.0000 - mae: 2677.6133 - val_loss: 22089996.0000 - val_mae: 3035.1345\n",
            "Epoch 73/200\n",
            "31/31 [==============================] - 0s 4ms/step - loss: 23174164.0000 - mae: 2910.6807 - val_loss: 22341380.0000 - val_mae: 2879.6895\n",
            "Epoch 74/200\n",
            "31/31 [==============================] - 0s 4ms/step - loss: 23078166.0000 - mae: 2777.4265 - val_loss: 22183690.0000 - val_mae: 2941.9810\n",
            "Epoch 75/200\n",
            "31/31 [==============================] - 0s 5ms/step - loss: 23030940.0000 - mae: 3012.9492 - val_loss: 22674624.0000 - val_mae: 2895.7710\n",
            "Epoch 76/200\n",
            "31/31 [==============================] - 0s 4ms/step - loss: 23094320.0000 - mae: 2766.1238 - val_loss: 22293110.0000 - val_mae: 2954.4355\n",
            "Epoch 77/200\n",
            "31/31 [==============================] - 0s 3ms/step - loss: 23063176.0000 - mae: 2942.7212 - val_loss: 22981852.0000 - val_mae: 2889.7549\n",
            "Epoch 78/200\n",
            "31/31 [==============================] - 0s 4ms/step - loss: 23093964.0000 - mae: 2881.1282 - val_loss: 22517502.0000 - val_mae: 2846.0447\n",
            "Epoch 79/200\n",
            "31/31 [==============================] - 0s 4ms/step - loss: 22861258.0000 - mae: 2720.0356 - val_loss: 22084256.0000 - val_mae: 3018.1833\n",
            "Epoch 80/200\n",
            "31/31 [==============================] - 0s 4ms/step - loss: 22815942.0000 - mae: 2853.1399 - val_loss: 22168390.0000 - val_mae: 2940.7966\n",
            "Epoch 81/200\n",
            "31/31 [==============================] - 0s 3ms/step - loss: 22829832.0000 - mae: 2893.0527 - val_loss: 22426182.0000 - val_mae: 2805.9014\n",
            "Epoch 82/200\n",
            "31/31 [==============================] - 0s 4ms/step - loss: 22996114.0000 - mae: 2727.0339 - val_loss: 22081318.0000 - val_mae: 3021.6375\n",
            "Epoch 83/200\n",
            "31/31 [==============================] - 0s 4ms/step - loss: 22613252.0000 - mae: 2829.5125 - val_loss: 22121232.0000 - val_mae: 2919.0635\n",
            "Epoch 84/200\n",
            "31/31 [==============================] - 0s 3ms/step - loss: 22701388.0000 - mae: 2761.0784 - val_loss: 22088956.0000 - val_mae: 2817.4609\n",
            "Epoch 85/200\n",
            "31/31 [==============================] - 0s 3ms/step - loss: 22607548.0000 - mae: 2897.3362 - val_loss: 22114574.0000 - val_mae: 2854.5693\n",
            "Epoch 86/200\n",
            "31/31 [==============================] - 0s 3ms/step - loss: 22505996.0000 - mae: 2893.6875 - val_loss: 21957110.0000 - val_mae: 3003.8967\n",
            "Epoch 87/200\n",
            "31/31 [==============================] - 0s 4ms/step - loss: 22405324.0000 - mae: 2816.2585 - val_loss: 21914528.0000 - val_mae: 2923.4260\n",
            "Epoch 88/200\n",
            "31/31 [==============================] - 0s 4ms/step - loss: 22383724.0000 - mae: 2953.4631 - val_loss: 22187180.0000 - val_mae: 2815.3066\n",
            "Epoch 89/200\n",
            "31/31 [==============================] - 0s 3ms/step - loss: 22330642.0000 - mae: 2727.3999 - val_loss: 21847122.0000 - val_mae: 2941.6042\n",
            "Epoch 90/200\n",
            "31/31 [==============================] - 0s 4ms/step - loss: 22380224.0000 - mae: 2692.3430 - val_loss: 21801338.0000 - val_mae: 2963.4143\n",
            "Epoch 91/200\n",
            "31/31 [==============================] - 0s 4ms/step - loss: 22349614.0000 - mae: 2808.5298 - val_loss: 21989298.0000 - val_mae: 2866.8679\n",
            "Epoch 92/200\n",
            "31/31 [==============================] - 0s 4ms/step - loss: 22207440.0000 - mae: 2745.2256 - val_loss: 21897580.0000 - val_mae: 2824.8611\n",
            "Epoch 93/200\n",
            "31/31 [==============================] - 0s 4ms/step - loss: 22163804.0000 - mae: 2708.9702 - val_loss: 21997104.0000 - val_mae: 3092.0732\n",
            "Epoch 94/200\n",
            "31/31 [==============================] - 0s 3ms/step - loss: 22341424.0000 - mae: 2811.1306 - val_loss: 21933276.0000 - val_mae: 2920.1338\n",
            "Epoch 95/200\n",
            "31/31 [==============================] - 0s 4ms/step - loss: 22168594.0000 - mae: 2733.9124 - val_loss: 21850538.0000 - val_mae: 2984.4841\n",
            "Epoch 96/200\n",
            "31/31 [==============================] - 0s 4ms/step - loss: 22115572.0000 - mae: 2727.0405 - val_loss: 21727488.0000 - val_mae: 2959.9475\n",
            "Epoch 97/200\n",
            "31/31 [==============================] - 0s 4ms/step - loss: 22288360.0000 - mae: 2786.1875 - val_loss: 21645056.0000 - val_mae: 2974.5107\n",
            "Epoch 98/200\n",
            "31/31 [==============================] - 0s 4ms/step - loss: 21834378.0000 - mae: 2795.4749 - val_loss: 22159494.0000 - val_mae: 2785.1040\n",
            "Epoch 99/200\n",
            "31/31 [==============================] - 0s 5ms/step - loss: 22234390.0000 - mae: 2766.1958 - val_loss: 21796274.0000 - val_mae: 3036.8137\n",
            "Epoch 100/200\n",
            "31/31 [==============================] - 0s 3ms/step - loss: 22000886.0000 - mae: 2661.9412 - val_loss: 21684442.0000 - val_mae: 2978.1379\n",
            "Epoch 101/200\n",
            "31/31 [==============================] - 0s 4ms/step - loss: 21958730.0000 - mae: 2815.1223 - val_loss: 22043080.0000 - val_mae: 2739.4089\n",
            "Epoch 102/200\n",
            "31/31 [==============================] - 0s 3ms/step - loss: 21694344.0000 - mae: 2792.4431 - val_loss: 21675702.0000 - val_mae: 2824.0493\n",
            "Epoch 103/200\n",
            "31/31 [==============================] - 0s 4ms/step - loss: 21789856.0000 - mae: 2653.0671 - val_loss: 21575800.0000 - val_mae: 2940.1624\n",
            "Epoch 104/200\n",
            "31/31 [==============================] - 0s 4ms/step - loss: 21737826.0000 - mae: 2815.9033 - val_loss: 21398858.0000 - val_mae: 2850.5720\n",
            "Epoch 105/200\n",
            "31/31 [==============================] - 0s 4ms/step - loss: 21873768.0000 - mae: 2702.2605 - val_loss: 21655416.0000 - val_mae: 3093.9387\n",
            "Epoch 106/200\n",
            "31/31 [==============================] - 0s 4ms/step - loss: 21717320.0000 - mae: 2771.2131 - val_loss: 21626414.0000 - val_mae: 2877.1707\n",
            "Epoch 107/200\n",
            "31/31 [==============================] - 0s 4ms/step - loss: 21599630.0000 - mae: 2753.3901 - val_loss: 21963724.0000 - val_mae: 2688.4912\n",
            "Epoch 108/200\n",
            "31/31 [==============================] - 0s 4ms/step - loss: 21735754.0000 - mae: 2691.8127 - val_loss: 21534010.0000 - val_mae: 2818.0017\n",
            "Epoch 109/200\n",
            "31/31 [==============================] - 0s 4ms/step - loss: 21502138.0000 - mae: 2604.1707 - val_loss: 21388670.0000 - val_mae: 2848.8486\n",
            "Epoch 110/200\n",
            "31/31 [==============================] - 0s 4ms/step - loss: 21522782.0000 - mae: 2738.1699 - val_loss: 21706654.0000 - val_mae: 2829.5537\n",
            "Epoch 111/200\n",
            "31/31 [==============================] - 0s 4ms/step - loss: 21716624.0000 - mae: 2749.1438 - val_loss: 21994976.0000 - val_mae: 2647.2705\n",
            "Epoch 112/200\n",
            "31/31 [==============================] - 0s 4ms/step - loss: 21320266.0000 - mae: 2701.2485 - val_loss: 21564624.0000 - val_mae: 2933.2397\n",
            "Epoch 113/200\n",
            "31/31 [==============================] - 0s 3ms/step - loss: 21407196.0000 - mae: 2714.1252 - val_loss: 21481190.0000 - val_mae: 2760.8657\n",
            "Epoch 114/200\n",
            "31/31 [==============================] - 0s 6ms/step - loss: 21238396.0000 - mae: 2661.9695 - val_loss: 21241494.0000 - val_mae: 2940.0217\n",
            "Epoch 115/200\n",
            "31/31 [==============================] - 0s 6ms/step - loss: 21241650.0000 - mae: 2662.6995 - val_loss: 21245408.0000 - val_mae: 2891.1467\n",
            "Epoch 116/200\n",
            "31/31 [==============================] - 0s 6ms/step - loss: 21483330.0000 - mae: 2832.5483 - val_loss: 21852890.0000 - val_mae: 2667.8811\n",
            "Epoch 117/200\n",
            "31/31 [==============================] - 0s 6ms/step - loss: 21140128.0000 - mae: 2628.6912 - val_loss: 21299618.0000 - val_mae: 2812.6306\n",
            "Epoch 118/200\n",
            "31/31 [==============================] - 0s 6ms/step - loss: 21155302.0000 - mae: 2679.0691 - val_loss: 21216650.0000 - val_mae: 2748.4995\n",
            "Epoch 119/200\n",
            "31/31 [==============================] - 0s 6ms/step - loss: 21129454.0000 - mae: 2635.1084 - val_loss: 21247732.0000 - val_mae: 2662.2371\n",
            "Epoch 120/200\n",
            "31/31 [==============================] - 0s 7ms/step - loss: 21286570.0000 - mae: 2673.7490 - val_loss: 21076952.0000 - val_mae: 2839.6006\n",
            "Epoch 121/200\n",
            "31/31 [==============================] - 0s 5ms/step - loss: 21039230.0000 - mae: 2602.6606 - val_loss: 21029938.0000 - val_mae: 2866.4192\n",
            "Epoch 122/200\n",
            "31/31 [==============================] - 0s 5ms/step - loss: 21015806.0000 - mae: 2653.8755 - val_loss: 20987134.0000 - val_mae: 2744.9646\n",
            "Epoch 123/200\n",
            "31/31 [==============================] - 0s 6ms/step - loss: 20919310.0000 - mae: 2554.7114 - val_loss: 20930362.0000 - val_mae: 2956.7004\n",
            "Epoch 124/200\n",
            "31/31 [==============================] - 0s 6ms/step - loss: 20940536.0000 - mae: 2661.3181 - val_loss: 20946466.0000 - val_mae: 2728.7710\n",
            "Epoch 125/200\n",
            "31/31 [==============================] - 0s 5ms/step - loss: 20857196.0000 - mae: 2590.9683 - val_loss: 20877438.0000 - val_mae: 2788.6699\n",
            "Epoch 126/200\n",
            "31/31 [==============================] - 0s 6ms/step - loss: 20897934.0000 - mae: 2613.5972 - val_loss: 20687242.0000 - val_mae: 2794.6099\n",
            "Epoch 127/200\n",
            "31/31 [==============================] - 0s 6ms/step - loss: 20877274.0000 - mae: 2634.7136 - val_loss: 20903744.0000 - val_mae: 2868.5549\n",
            "Epoch 128/200\n",
            "31/31 [==============================] - 0s 6ms/step - loss: 20731624.0000 - mae: 2646.4153 - val_loss: 21017706.0000 - val_mae: 2693.4707\n",
            "Epoch 129/200\n",
            "31/31 [==============================] - 0s 6ms/step - loss: 20852962.0000 - mae: 2735.9333 - val_loss: 21270164.0000 - val_mae: 2679.3613\n",
            "Epoch 130/200\n",
            "31/31 [==============================] - 0s 7ms/step - loss: 20761310.0000 - mae: 2598.8757 - val_loss: 20846424.0000 - val_mae: 2738.5913\n",
            "Epoch 131/200\n",
            "31/31 [==============================] - 0s 6ms/step - loss: 20843208.0000 - mae: 2670.1038 - val_loss: 20667436.0000 - val_mae: 2751.6111\n",
            "Epoch 132/200\n",
            "31/31 [==============================] - 0s 5ms/step - loss: 20923198.0000 - mae: 2684.3420 - val_loss: 21047406.0000 - val_mae: 2592.6770\n",
            "Epoch 133/200\n",
            "31/31 [==============================] - 0s 4ms/step - loss: 20668588.0000 - mae: 2679.9961 - val_loss: 20901168.0000 - val_mae: 2616.5493\n",
            "Epoch 134/200\n",
            "31/31 [==============================] - 0s 4ms/step - loss: 20614586.0000 - mae: 2536.9292 - val_loss: 20662344.0000 - val_mae: 2733.6169\n",
            "Epoch 135/200\n",
            "31/31 [==============================] - 0s 4ms/step - loss: 20546588.0000 - mae: 2568.7856 - val_loss: 20686518.0000 - val_mae: 2697.7571\n",
            "Epoch 136/200\n",
            "31/31 [==============================] - 0s 4ms/step - loss: 20604966.0000 - mae: 2524.5977 - val_loss: 20683166.0000 - val_mae: 2899.5701\n",
            "Epoch 137/200\n",
            "31/31 [==============================] - 0s 4ms/step - loss: 20620606.0000 - mae: 2551.8081 - val_loss: 20998692.0000 - val_mae: 3042.7483\n",
            "Epoch 138/200\n",
            "31/31 [==============================] - 0s 3ms/step - loss: 20588582.0000 - mae: 2666.5168 - val_loss: 20885294.0000 - val_mae: 2575.7446\n",
            "Epoch 139/200\n",
            "31/31 [==============================] - 0s 4ms/step - loss: 20492956.0000 - mae: 2628.1938 - val_loss: 20895146.0000 - val_mae: 2548.1711\n",
            "Epoch 140/200\n",
            "31/31 [==============================] - 0s 4ms/step - loss: 20739454.0000 - mae: 2598.5273 - val_loss: 20752814.0000 - val_mae: 2678.7727\n",
            "Epoch 141/200\n",
            "31/31 [==============================] - 0s 4ms/step - loss: 20457968.0000 - mae: 2545.9822 - val_loss: 20586024.0000 - val_mae: 2695.6990\n",
            "Epoch 142/200\n",
            "31/31 [==============================] - 0s 3ms/step - loss: 20335836.0000 - mae: 2591.2654 - val_loss: 20778296.0000 - val_mae: 2610.3962\n",
            "Epoch 143/200\n",
            "31/31 [==============================] - 0s 3ms/step - loss: 20413586.0000 - mae: 2587.7063 - val_loss: 20765412.0000 - val_mae: 2611.5745\n",
            "Epoch 144/200\n",
            "31/31 [==============================] - 0s 5ms/step - loss: 20429192.0000 - mae: 2504.0095 - val_loss: 20639138.0000 - val_mae: 2649.8870\n",
            "Epoch 145/200\n",
            "31/31 [==============================] - 0s 4ms/step - loss: 20327698.0000 - mae: 2594.7910 - val_loss: 20758154.0000 - val_mae: 2602.7524\n",
            "Epoch 146/200\n",
            "31/31 [==============================] - 0s 4ms/step - loss: 20372660.0000 - mae: 2497.2395 - val_loss: 20658884.0000 - val_mae: 2639.3831\n",
            "Epoch 147/200\n",
            "31/31 [==============================] - 0s 4ms/step - loss: 20326782.0000 - mae: 2643.4438 - val_loss: 20408060.0000 - val_mae: 2788.9121\n",
            "Epoch 148/200\n",
            "31/31 [==============================] - 0s 3ms/step - loss: 20280956.0000 - mae: 2526.8071 - val_loss: 20479870.0000 - val_mae: 2704.3184\n",
            "Epoch 149/200\n",
            "31/31 [==============================] - 0s 3ms/step - loss: 20147320.0000 - mae: 2611.3250 - val_loss: 20946260.0000 - val_mae: 2521.8164\n",
            "Epoch 150/200\n",
            "31/31 [==============================] - 0s 4ms/step - loss: 20487580.0000 - mae: 2563.4221 - val_loss: 20791596.0000 - val_mae: 2565.0583\n",
            "Epoch 151/200\n",
            "31/31 [==============================] - 0s 4ms/step - loss: 20219214.0000 - mae: 2536.0334 - val_loss: 20583494.0000 - val_mae: 2611.0850\n",
            "Epoch 152/200\n",
            "31/31 [==============================] - 0s 5ms/step - loss: 20295934.0000 - mae: 2573.2285 - val_loss: 20706984.0000 - val_mae: 2625.9880\n",
            "Epoch 153/200\n",
            "31/31 [==============================] - 0s 5ms/step - loss: 20207126.0000 - mae: 2470.0022 - val_loss: 20474502.0000 - val_mae: 2779.4526\n",
            "Epoch 154/200\n",
            "31/31 [==============================] - 0s 4ms/step - loss: 20122710.0000 - mae: 2579.4617 - val_loss: 20479014.0000 - val_mae: 2691.6230\n",
            "Epoch 155/200\n",
            "31/31 [==============================] - 0s 3ms/step - loss: 20115392.0000 - mae: 2507.1816 - val_loss: 20339976.0000 - val_mae: 2695.9238\n",
            "Epoch 156/200\n",
            "31/31 [==============================] - 0s 3ms/step - loss: 20281780.0000 - mae: 2518.3447 - val_loss: 20655812.0000 - val_mae: 2581.8018\n",
            "Epoch 157/200\n",
            "31/31 [==============================] - 0s 4ms/step - loss: 20095102.0000 - mae: 2600.4871 - val_loss: 20760956.0000 - val_mae: 2542.2937\n",
            "Epoch 158/200\n",
            "31/31 [==============================] - 0s 4ms/step - loss: 20100638.0000 - mae: 2470.2046 - val_loss: 20449450.0000 - val_mae: 2938.9690\n",
            "Epoch 159/200\n",
            "31/31 [==============================] - 0s 4ms/step - loss: 20330020.0000 - mae: 2608.2515 - val_loss: 20403088.0000 - val_mae: 2718.9165\n",
            "Epoch 160/200\n",
            "31/31 [==============================] - 0s 5ms/step - loss: 20032536.0000 - mae: 2553.7627 - val_loss: 20587362.0000 - val_mae: 2557.9883\n",
            "Epoch 161/200\n",
            "31/31 [==============================] - 0s 3ms/step - loss: 20098642.0000 - mae: 2542.0330 - val_loss: 20863782.0000 - val_mae: 2478.6887\n",
            "Epoch 162/200\n",
            "31/31 [==============================] - 0s 4ms/step - loss: 20024978.0000 - mae: 2488.6465 - val_loss: 20417638.0000 - val_mae: 2696.8352\n",
            "Epoch 163/200\n",
            "31/31 [==============================] - 0s 3ms/step - loss: 19999354.0000 - mae: 2468.8022 - val_loss: 20491788.0000 - val_mae: 2834.5234\n",
            "Epoch 164/200\n",
            "31/31 [==============================] - 0s 4ms/step - loss: 19896352.0000 - mae: 2503.9807 - val_loss: 20743512.0000 - val_mae: 2511.2100\n",
            "Epoch 165/200\n",
            "31/31 [==============================] - 0s 4ms/step - loss: 19934514.0000 - mae: 2516.3660 - val_loss: 20561702.0000 - val_mae: 2601.5344\n",
            "Epoch 166/200\n",
            "31/31 [==============================] - 0s 3ms/step - loss: 20111318.0000 - mae: 2529.5706 - val_loss: 20456666.0000 - val_mae: 2653.4224\n",
            "Epoch 167/200\n",
            "31/31 [==============================] - 0s 4ms/step - loss: 19955634.0000 - mae: 2493.1711 - val_loss: 20599026.0000 - val_mae: 2539.9744\n",
            "Epoch 168/200\n",
            "31/31 [==============================] - 0s 5ms/step - loss: 19934814.0000 - mae: 2451.6675 - val_loss: 20563960.0000 - val_mae: 2662.5405\n",
            "Epoch 169/200\n",
            "31/31 [==============================] - 0s 4ms/step - loss: 19852552.0000 - mae: 2512.1311 - val_loss: 20462162.0000 - val_mae: 2626.7483\n",
            "Epoch 170/200\n",
            "31/31 [==============================] - 0s 4ms/step - loss: 19904578.0000 - mae: 2487.0220 - val_loss: 20556096.0000 - val_mae: 2583.3857\n",
            "Epoch 171/200\n",
            "31/31 [==============================] - 0s 4ms/step - loss: 19971266.0000 - mae: 2521.9985 - val_loss: 20444814.0000 - val_mae: 2659.0347\n",
            "Epoch 172/200\n",
            "31/31 [==============================] - 0s 4ms/step - loss: 19869474.0000 - mae: 2497.9463 - val_loss: 20761220.0000 - val_mae: 2519.8145\n",
            "Epoch 173/200\n",
            "31/31 [==============================] - 0s 3ms/step - loss: 19884564.0000 - mae: 2508.3293 - val_loss: 20603290.0000 - val_mae: 2574.0256\n",
            "Epoch 174/200\n",
            "31/31 [==============================] - 0s 4ms/step - loss: 19821476.0000 - mae: 2438.9470 - val_loss: 20484866.0000 - val_mae: 2707.7126\n",
            "Epoch 175/200\n",
            "31/31 [==============================] - 0s 5ms/step - loss: 19735030.0000 - mae: 2523.6929 - val_loss: 20529754.0000 - val_mae: 2727.1890\n",
            "Epoch 176/200\n",
            "31/31 [==============================] - 0s 4ms/step - loss: 19727622.0000 - mae: 2523.9958 - val_loss: 20523240.0000 - val_mae: 2644.9478\n",
            "Epoch 177/200\n",
            "31/31 [==============================] - 0s 3ms/step - loss: 19733528.0000 - mae: 2437.1890 - val_loss: 20499726.0000 - val_mae: 2752.0488\n",
            "Epoch 178/200\n",
            "31/31 [==============================] - 0s 3ms/step - loss: 19685778.0000 - mae: 2460.4385 - val_loss: 20391276.0000 - val_mae: 2754.5576\n",
            "Epoch 179/200\n",
            "31/31 [==============================] - 0s 4ms/step - loss: 19873270.0000 - mae: 2455.9189 - val_loss: 20406024.0000 - val_mae: 2654.1738\n",
            "Epoch 180/200\n",
            "31/31 [==============================] - 0s 3ms/step - loss: 19661190.0000 - mae: 2518.6897 - val_loss: 20578166.0000 - val_mae: 2669.7844\n",
            "Epoch 181/200\n",
            "31/31 [==============================] - 0s 4ms/step - loss: 19653304.0000 - mae: 2488.5447 - val_loss: 20239412.0000 - val_mae: 2758.0034\n",
            "Epoch 182/200\n",
            "31/31 [==============================] - 0s 4ms/step - loss: 19768786.0000 - mae: 2505.2046 - val_loss: 20356274.0000 - val_mae: 2789.4294\n",
            "Epoch 183/200\n",
            "31/31 [==============================] - 0s 5ms/step - loss: 21258098.0000 - mae: 2729.3633 - val_loss: 21000706.0000 - val_mae: 2335.5664\n",
            "Epoch 184/200\n",
            "31/31 [==============================] - 0s 4ms/step - loss: 19775308.0000 - mae: 2409.9465 - val_loss: 20361346.0000 - val_mae: 2734.7727\n",
            "Epoch 185/200\n",
            "31/31 [==============================] - 0s 3ms/step - loss: 19693472.0000 - mae: 2510.5911 - val_loss: 20567780.0000 - val_mae: 2876.8218\n",
            "Epoch 186/200\n",
            "31/31 [==============================] - 0s 4ms/step - loss: 19564658.0000 - mae: 2462.4363 - val_loss: 20609964.0000 - val_mae: 2552.4326\n",
            "Epoch 187/200\n",
            "31/31 [==============================] - 0s 3ms/step - loss: 19576100.0000 - mae: 2451.5786 - val_loss: 20486470.0000 - val_mae: 2690.3098\n",
            "Epoch 188/200\n",
            "31/31 [==============================] - 0s 3ms/step - loss: 19573318.0000 - mae: 2538.1956 - val_loss: 20507832.0000 - val_mae: 2533.2773\n",
            "Epoch 189/200\n",
            "31/31 [==============================] - 0s 4ms/step - loss: 19593124.0000 - mae: 2425.2842 - val_loss: 20431814.0000 - val_mae: 2881.5432\n",
            "Epoch 190/200\n",
            "31/31 [==============================] - 0s 4ms/step - loss: 19634020.0000 - mae: 2481.1211 - val_loss: 20513278.0000 - val_mae: 2596.8760\n",
            "Epoch 191/200\n",
            "31/31 [==============================] - 0s 5ms/step - loss: 19619310.0000 - mae: 2451.5837 - val_loss: 20320564.0000 - val_mae: 2634.9646\n",
            "Epoch 192/200\n",
            "31/31 [==============================] - 0s 4ms/step - loss: 19558224.0000 - mae: 2437.7061 - val_loss: 20386308.0000 - val_mae: 2654.4646\n",
            "Epoch 193/200\n",
            "31/31 [==============================] - 0s 3ms/step - loss: 19481488.0000 - mae: 2449.0835 - val_loss: 20528094.0000 - val_mae: 2675.0757\n",
            "Epoch 194/200\n",
            "31/31 [==============================] - 0s 4ms/step - loss: 19606588.0000 - mae: 2436.7214 - val_loss: 20457178.0000 - val_mae: 2816.7935\n",
            "Epoch 195/200\n",
            "31/31 [==============================] - 0s 4ms/step - loss: 19840480.0000 - mae: 2479.8047 - val_loss: 20457468.0000 - val_mae: 2604.3860\n",
            "Epoch 196/200\n",
            "31/31 [==============================] - 0s 3ms/step - loss: 19508372.0000 - mae: 2472.7876 - val_loss: 20319686.0000 - val_mae: 2712.1970\n",
            "Epoch 197/200\n",
            "31/31 [==============================] - 0s 4ms/step - loss: 19802374.0000 - mae: 2507.3640 - val_loss: 20363130.0000 - val_mae: 2441.0227\n",
            "Epoch 198/200\n",
            "31/31 [==============================] - 0s 4ms/step - loss: 19430062.0000 - mae: 2476.8721 - val_loss: 20355962.0000 - val_mae: 2694.0063\n",
            "Epoch 199/200\n",
            "31/31 [==============================] - 0s 5ms/step - loss: 19568080.0000 - mae: 2391.3718 - val_loss: 20441652.0000 - val_mae: 2916.5095\n",
            "Epoch 200/200\n",
            "31/31 [==============================] - 0s 5ms/step - loss: 19710698.0000 - mae: 2690.7610 - val_loss: 20558454.0000 - val_mae: 2574.9507\n"
          ]
        }
      ],
      "source": [
        "history=model.fit(x_train,y_train,validation_split=0.1,epochs=200,batch_size=32)"
      ]
    },
    {
      "cell_type": "code",
      "execution_count": null,
      "metadata": {
        "colab": {
          "base_uri": "https://localhost:8080/"
        },
        "id": "YLtF0hzDW7jW",
        "outputId": "1f138f30-4f51-40fe-8169-dd71381b00c2"
      },
      "outputs": [
        {
          "name": "stdout",
          "output_type": "stream",
          "text": [
            "<class 'numpy.ndarray'>\n",
            "<class 'pandas.core.series.Series'>\n",
            "float64\n",
            "float64\n",
            "(1070, 11)\n",
            "(1070,)\n"
          ]
        }
      ],
      "source": [
        "print(type(x_train))\n",
        "print(type(y_train))\n",
        "print(x_train.dtype)\n",
        "print(y_train.dtype)\n",
        "print(x_train.shape)\n",
        "print(y_train.shape)"
      ]
    },
    {
      "cell_type": "code",
      "execution_count": null,
      "metadata": {
        "colab": {
          "base_uri": "https://localhost:8080/"
        },
        "id": "PsYFZ_JcXCQc",
        "outputId": "c33884f2-1b0f-419b-cfbc-a31a2c0b85b2"
      },
      "outputs": [
        {
          "data": {
            "text/plain": [
              "array([ 0.48366788, -1.75747362,  0.75107928,  1.        ,  0.        ,\n",
              "        1.        ,  0.        ,  0.        ,  1.        ,  0.        ,\n",
              "        0.        ])"
            ]
          },
          "execution_count": 46,
          "metadata": {},
          "output_type": "execute_result"
        }
      ],
      "source": [
        "x_train[0]"
      ]
    },
    {
      "cell_type": "code",
      "execution_count": null,
      "metadata": {
        "id": "vOrLgZ-LXwEU"
      },
      "outputs": [],
      "source": [
        "def plot_loss_accuracy(history):\n",
        "  train_loss=history.history['loss']\n",
        "  val_loss=history.history['val_loss']\n",
        "  train_mae=history.history['mae']\n",
        "  val_mae=history.history['val_mae']\n",
        "\n",
        "  fig,ax=plt.subplots(1,2,figsize=(15,5))\n",
        "  ax[0].plot(train_loss,label='Training Loss')\n",
        "  ax[0].plot(val_loss,label='Validation Loss')\n",
        "  ax[0].set_title('Training loss and Validation loss')\n",
        "  ax[0].set_xlabel('Epochs')\n",
        "  ax[0].set_ylabel('loss')\n",
        "  ax[0].legend()\n",
        "\n",
        "  ax[1].plot(train_mae,label='training mae')\n",
        "  ax[1].plot(val_mae,label='validation mae')\n",
        "  ax[1].set_title('Training mae and Validation mae')\n",
        "  ax[1].set_xlabel('epochs')\n",
        "  ax[1].set_ylabel('mae')\n",
        "  ax[1].legend()\n",
        "\n",
        "  plt.show()"
      ]
    },
    {
      "cell_type": "code",
      "execution_count": null,
      "metadata": {
        "colab": {
          "base_uri": "https://localhost:8080/",
          "height": 441
        },
        "id": "x4-ckVODZgbw",
        "outputId": "34d4b54b-7231-4802-ee64-fd099992b703"
      },
      "outputs": [
        {
          "data": {
            "image/png": "[encoded data removed]",
            "text/plain": [
              "<Figure size 1500x500 with 2 Axes>"
            ]
          },
          "metadata": {},
          "output_type": "display_data"
        }
      ],
      "source": [
        "plot_loss_accuracy(history)"
      ]
    },
    {
      "cell_type": "code",
      "execution_count": null,
      "metadata": {
        "colab": {
          "base_uri": "https://localhost:8080/"
        },
        "id": "0gIrmOZaZkMK",
        "outputId": "c3ed23f9-57af-4179-f072-7ec744038c84"
      },
      "outputs": [
        {
          "name": "stdout",
          "output_type": "stream",
          "text": [
            "9/9 [==============================] - 0s 3ms/step\n"
          ]
        }
      ],
      "source": [
        "y_pred=model.predict(x_test)"
      ]
    },
    {
      "cell_type": "code",
      "execution_count": null,
      "metadata": {
        "colab": {
          "base_uri": "https://localhost:8080/"
        },
        "id": "P19uivgIaptZ",
        "outputId": "900df334-51d3-49e8-c73e-f7daa7d0f869"
      },
      "outputs": [
        {
          "name": "stdout",
          "output_type": "stream",
          "text": [
            "test loss:19072248.00,Test mae:2408.62\n"
          ]
        }
      ],
      "source": [
        "test_loss,test_mae=model.evaluate(x_test,y_test,verbose=0)\n",
        "print(f'test loss:{test_loss:.2f},Test mae:{test_mae:.2f}')"
      ]
    },
    {
      "cell_type": "code",
      "execution_count": null,
      "metadata": {
        "colab": {
          "base_uri": "https://localhost:8080/"
        },
        "id": "ooi6X11Fa-6o",
        "outputId": "42585b7e-1ad6-4933-b1ac-7c501f487233"
      },
      "outputs": [
        {
          "data": {
            "text/plain": [
              "0.8771504174794718"
            ]
          },
          "execution_count": 51,
          "metadata": {},
          "output_type": "execute_result"
        }
      ],
      "source": [
        "r2_score(y_test,y_pred)"
      ]
    },
    {
      "cell_type": "code",
      "execution_count": null,
      "metadata": {
        "colab": {
          "base_uri": "https://localhost:8080/"
        },
        "id": "wYPFGNGvbIlH",
        "outputId": "92e686ee-8749-4ceb-aac2-a76cb2f447d1"
      },
      "outputs": [
        {
          "name": "stdout",
          "output_type": "stream",
          "text": [
            "1/1 [==============================] - 0s 24ms/step\n",
            "Predicted charges: 18924.99\n"
          ]
        }
      ],
      "source": [
        "new_data=pd.DataFrame({\n",
        "    'age':[30],\n",
        "    'sex':['male'],\n",
        "    'bmi':[25],\n",
        "    'children':[2],\n",
        "    'smoker':['yes'],\n",
        "    'region':['southeast']\n",
        "})\n",
        "income=1200000\n",
        "new_data_transformed=preprocessor.transform(new_data)\n",
        "prediction=model.predict(new_data_transformed)\n",
        "\n",
        "if prediction[0][0]<income/12:\n",
        "  print('Predicted charges:',prediction[0][0])\n",
        "else:\n",
        "  print('The applicant cannot pay for the insurance')"
      ]
    },
    {
      "cell_type": "code",
      "execution_count": null,
      "metadata": {
        "colab": {
          "base_uri": "https://localhost:8080/"
        },
        "id": "qmkW7OLbeo0v",
        "outputId": "66c2616c-4711-41a7-aea9-e4f463a19556"
      },
      "outputs": [
        {
          "name": "stdout",
          "output_type": "stream",
          "text": [
            "1/1 [==============================] - 0s 27ms/step\n",
            "Predicted charges: 5962.9805\n"
          ]
        }
      ],
      "source": [
        "# Step 7: Use the trained model to make predictions on new data\n",
        "new_data = pd.DataFrame({\n",
        "    'age': [30],\n",
        "    'sex': ['male'],\n",
        "    'bmi': [25.5],\n",
        "    'children': [2],\n",
        "    'smoker': ['no'],\n",
        "    'region': ['northwest']\n",
        "})\n",
        "new_data = preprocessor.transform(new_data)\n",
        "prediction = model.predict(new_data)[0][0]\n",
        "print('Predicted charges:', prediction)"
      ]
    },
    {
      "cell_type": "code",
      "execution_count": null,
      "metadata": {
        "colab": {
          "base_uri": "https://localhost:8080/"
        },
        "id": "Pf2_P4_Ob6Ha",
        "outputId": "5be11c48-fe5c-4c0c-ee7a-7f59718040dc"
      },
      "outputs": [
        {
          "name": "stdout",
          "output_type": "stream",
          "text": [
            "5962.9805\n"
          ]
        }
      ],
      "source": [
        "print(prediction)"
      ]
    },
    {
      "cell_type": "code",
      "execution_count": null,
      "metadata": {
        "id": "7AVDw4HlcGk2"
      },
      "outputs": [],
      "source": [
        "model.save('./Model/model.h5')"
      ]
    },
    {
      "cell_type": "code",
      "execution_count": null,
      "metadata": {
        "colab": {
          "base_uri": "https://localhost:8080/",
          "height": 178
        },
        "id": "_RrIgQSXfTNh",
        "outputId": "45211201-0f49-4e27-d081-987c3162c93a"
      },
      "outputs": [
        {
          "data": {
            "text/html": [
              "<table border=\"1\" class=\"dataframe\">\n",
              "  <thead>\n",
              "    <tr style=\"text-align: right;\">\n",
              "      <th></th>\n",
              "      <th>charges</th>\n",
              "    </tr>\n",
              "    <tr>\n",
              "      <th>smoker</th>\n",
              "      <th></th>\n",
              "    </tr>\n",
              "  </thead>\n",
              "  <tbody>\n",
              "    <tr>\n",
              "      <th>no</th>\n",
              "      <td>8434.268298</td>\n",
              "    </tr>\n",
              "    <tr>\n",
              "      <th>yes</th>\n",
              "      <td>32050.231832</td>\n",
              "    </tr>\n",
              "  </tbody>\n",
              "</table><br><label><b>dtype:</b> float64</label>"
            ],
            "text/plain": [
              "smoker\n",
              "no      8434.268298\n",
              "yes    32050.231832\n",
              "Name: charges, dtype: float64"
            ]
          },
          "execution_count": 9,
          "metadata": {},
          "output_type": "execute_result"
        }
      ],
      "source": [
        "data.groupby('smoker')['charges'].mean()"
      ]
    },
    {
      "cell_type": "code",
      "execution_count": null,
      "metadata": {
        "colab": {
          "base_uri": "https://localhost:8080/"
        },
        "id": "IQElNhXw-Dy0",
        "outputId": "eac354f5-6ee5-4fd1-c0c2-7f4ba566cb1e"
      },
      "outputs": [
        {
          "name": "stdout",
          "output_type": "stream",
          "text": [
            "Group: no\n",
            "      age     sex     bmi  children smoker     region      charges\n",
            "1      18    male  33.770         1     no  southeast   1725.55230\n",
            "2      28    male  33.000         3     no  southeast   4449.46200\n",
            "3      33    male  22.705         0     no  northwest  21984.47061\n",
            "4      32    male  28.880         0     no  northwest   3866.85520\n",
            "5      31  female  25.740         0     no  southeast   3756.62160\n",
            "...   ...     ...     ...       ...    ...        ...          ...\n",
            "1332   52  female  44.700         3     no  southwest  11411.68500\n",
            "1333   50    male  30.970         3     no  northwest  10600.54830\n",
            "1334   18  female  31.920         0     no  northeast   2205.98080\n",
            "1335   18  female  36.850         0     no  southeast   1629.83350\n",
            "1336   21  female  25.800         0     no  southwest   2007.94500\n",
            "\n",
            "[1064 rows x 7 columns]\n",
            "Group: yes\n",
            "      age     sex     bmi  children smoker     region      charges\n",
            "0      19  female  27.900         0    yes  southwest  16884.92400\n",
            "11     62  female  26.290         0    yes  southeast  27808.72510\n",
            "14     27    male  42.130         0    yes  southeast  39611.75770\n",
            "19     30    male  35.300         0    yes  southwest  36837.46700\n",
            "23     34  female  31.920         1    yes  northeast  37701.87680\n",
            "...   ...     ...     ...       ...    ...        ...          ...\n",
            "1313   19  female  34.700         2    yes  southwest  36397.57600\n",
            "1314   30  female  23.655         3    yes  northwest  18765.87545\n",
            "1321   62    male  26.695         0    yes  northeast  28101.33305\n",
            "1323   42  female  40.370         2    yes  southeast  43896.37630\n",
            "1337   61  female  29.070         0    yes  northwest  29141.36030\n",
            "\n",
            "[274 rows x 7 columns]\n"
          ]
        }
      ],
      "source": [
        "grouped = data.groupby('smoker')\n",
        "\n",
        "for name, group in grouped:\n",
        "    print(f\"Group: {name}\")\n",
        "    print(group)\n"
      ]
    },
    {
      "cell_type": "code",
      "execution_count": null,
      "metadata": {
        "colab": {
          "base_uri": "https://localhost:8080/"
        },
        "id": "TMyQC3QV_BvM",
        "outputId": "f65d3f6e-cd63-413b-ec87-b114d5b155f9"
      },
      "outputs": [
        {
          "name": "stdout",
          "output_type": "stream",
          "text": [
            "2.15.0\n"
          ]
        }
      ],
      "source": [
        "print(tf.__version__)"
      ]
    },
    {
      "cell_type": "code",
      "execution_count": null,
      "metadata": {
        "id": "fW63jmjeItx7"
      },
      "outputs": [],
      "source": []
    }
  ],
  "metadata": {
    "colab": {
      "provenance": []
    },
    "kernelspec": {
      "display_name": "Python 3",
      "name": "python3"
    },
    "language_info": {
      "codemirror_mode": {
        "name": "ipython",
        "version": 3
      },
      "file_extension": ".py",
      "mimetype": "text/x-python",
      "name": "python",
      "nbconvert_exporter": "python",
      "pygments_lexer": "ipython3",
      "version": "3.8.15"
    }
  },
  "nbformat": 4,
  "nbformat_minor": 0
}
